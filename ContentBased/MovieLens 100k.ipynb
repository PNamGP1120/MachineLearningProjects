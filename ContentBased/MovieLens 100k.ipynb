{
 "cells": [
  {
   "cell_type": "markdown",
   "metadata": {},
   "source": [
    "### Giới thiệu cơ sở dữ liệu MovieLens 100k \n",
    "[Bộ cơ sở dữ liệu MovieLens 100k](https://grouplens.org/datasets/movielens/100k/) được công bố năm 1998 bởi [GroupLens](https://grouplens.org). Bộ cơ sở dữ liệu này bao gồm 100,000 (100k) ratings từ khoảng 1000 _users_ cho khoảng _1700_ bộ phim. Các bạn cũng có thể tìm thấy các bộ cơ sở dữ liệu tương tự với khoảng 1M, 10M, 20M ratings. Trong bài viết này, tôi sử dụng bộ cơ sở dữ liệu nhỏ nhất nhằm mục đích minh hoạ. \n",
    "\n",
    "Sau khi download và giải nén, chúng ta sẽ thu được rất nhiều các file nhỏ, chúng ta chỉ cần quan tâm các file sau:\n",
    "\n",
    "* `u.data`: Chứa toàn bộ các ratings của 943 _users_ cho 1682 movies. Mỗi user rate it nhất 20 movies. Thông tin về thời gian rate cũng được cho nhưng chúng ta không sử dụng trong bài viết này. \n",
    "\n",
    "* `ua.base, ua.test, ub.base, ub.test`: là hai cách chia toàn bộ dữ liệu ra thành hai tập con, một cho training, một cho test. Chúng ta sẽ thực hành trên `ua.base` và `ua.test`. Bạn đọc có thể thử với cách chia dữ liệu còn lại. \n",
    "\n",
    "* `u.user`: Chứa thông tin về _users_, bao gồm: id, tuổi, giới tính, nghề nghiệp, zipcode (vùng miền), vì những thông tin này cũng có thể ảnh hưởng tới sở thích của các _users_. Tuy nhiên, trong bài viết này, chúng ta sẽ không sử dụng các thông tin này, trừ thông tin về _id_ để xác định các user khác nhau. \n",
    "\n",
    "* `u.genre`: Chứa tên của 19 thể loại phim. Các thể loại bao gồm: `unknown, Action, Adventure, Animation, Children's, Comedy, Crime, Documentary, Drama, Fantasy, Film-Noir, Horror, Musical, Mystery, Romance, Sci-Fi, Thriller, War, Western,`\n",
    "\n",
    "* `u.item`: thông tin về mỗi bộ phim. Một vài dòng đầu tiên của file:\n",
    "```\n",
    "1|Toy Story (1995)|01-Jan-1995||http://us.imdb.com/M/title-exact?Toy%20Story%20(1995)|0|0|0|1|1|1|0|0|0|0|0|0|0|0|0|0|0|0|0\n",
    "2|GoldenEye (1995)|01-Jan-1995||http://us.imdb.com/M/title-exact?GoldenEye%20(1995)|0|1|1|0|0|0|0|0|0|0|0|0|0|0|0|0|1|0|0\n",
    "3|Four Rooms (1995)|01-Jan-1995||http://us.imdb.com/M/title-exact?Four%20Rooms%20(1995)|0|0|0|0|0|0|0|0|0|0|0|0|0|0|0|0|1|0|0\n",
    "4|Get Shorty (1995)|01-Jan-1995||http://us.imdb.com/M/title-exact?Get%20Shorty%20(1995)|0|1|0|0|0|1|0|0|1|0|0|0|0|0|0|0|0|0|0\n",
    "```\n",
    "Trong mỗi dòng, chúng ta sẽ thấy _id_ của phim, tên phim, ngày phát hành, link trên imdb, và các số nhị phân `0`, `1` phía cuối để chỉ ra bộ phim thuộc các thể loại nào trong 19 thể loại đã cho trong `u.genre`. Thông tin về thể loại này sẽ được dùng để xây dựng item profiles. \n",
    "\n",
    "Với cơ sở dữ liệu này, chúng ta sẽ sử dụng thư viện [`pandas`](http://pandas.pydata.org), có thể được cài đặt bằng `pip install padas`. \n"
   ]
  },
  {
   "cell_type": "code",
   "metadata": {
    "ExecuteTime": {
     "end_time": "2025-02-27T11:42:56.227804Z",
     "start_time": "2025-02-27T11:42:55.400383Z"
    }
   },
   "source": [
    "import numpy as np\n",
    "import pandas as pd \n",
    "# Reading user file:\n",
    "u_cols =  ['user_id', 'age', 'sex', 'occupation', 'zip_code']\n",
    "users = pd.read_csv('ml-100k/u.user', sep='|', names=u_cols, encoding='latin-1')\n",
    "n_users = users.shape[0]\n",
    "print('Number of users:', n_users)\n",
    "print(users)\n",
    "\n",
    "#Reading ratings file:\n",
    "r_cols = ['user_id', 'movie_id', 'rating', 'unix_timestamp']\n",
    "\n",
    "ratings_base = pd.read_csv('ml-100k/ua.base', sep='\\t', names=r_cols)\n",
    "ratings_test = pd.read_csv('ml-100k/ua.test', sep='\\t', names=r_cols)\n",
    "print(ratings_base)\n",
    "rate_train = ratings_base.values\n",
    "print(rate_train)\n",
    "rate_test = ratings_test.values\n",
    "print('Number of traing rates:', rate_train.shape[0])\n",
    "print('Number of test rates:', rate_test.shape[0])"
   ],
   "outputs": [
    {
     "name": "stdout",
     "output_type": "stream",
     "text": [
      "Number of users: 943\n",
      "     user_id  age sex     occupation zip_code\n",
      "0          1   24   M     technician    85711\n",
      "1          2   53   F          other    94043\n",
      "2          3   23   M         writer    32067\n",
      "3          4   24   M     technician    43537\n",
      "4          5   33   F          other    15213\n",
      "..       ...  ...  ..            ...      ...\n",
      "938      939   26   F        student    33319\n",
      "939      940   32   M  administrator    02215\n",
      "940      941   20   M        student    97229\n",
      "941      942   48   F      librarian    78209\n",
      "942      943   22   M        student    77841\n",
      "\n",
      "[943 rows x 5 columns]\n",
      "       user_id  movie_id  rating  unix_timestamp\n",
      "0            1         1       5       874965758\n",
      "1            1         2       3       876893171\n",
      "2            1         3       4       878542960\n",
      "3            1         4       3       876893119\n",
      "4            1         5       3       889751712\n",
      "...        ...       ...     ...             ...\n",
      "90565      943      1047       2       875502146\n",
      "90566      943      1074       4       888640250\n",
      "90567      943      1188       3       888640250\n",
      "90568      943      1228       3       888640275\n",
      "90569      943      1330       3       888692465\n",
      "\n",
      "[90570 rows x 4 columns]\n",
      "[[        1         1         5 874965758]\n",
      " [        1         2         3 876893171]\n",
      " [        1         3         4 878542960]\n",
      " ...\n",
      " [      943      1188         3 888640250]\n",
      " [      943      1228         3 888640275]\n",
      " [      943      1330         3 888692465]]\n",
      "Number of traing rates: 90570\n",
      "Number of test rates: 9430\n"
     ]
    }
   ],
   "execution_count": 1
  },
  {
   "cell_type": "markdown",
   "metadata": {},
   "source": [
    "### Xây dựng item profiles\n",
    "\n",
    "Công việc quan trọng trong content-based recommendation system là xây dựng profile cho mỗi item, tức feature vector cho mỗi item. Trước hết, chúng ta cần load toàn bộ thông tin về các _items_ vào biến `items`:"
   ]
  },
  {
   "cell_type": "code",
   "metadata": {
    "ExecuteTime": {
     "end_time": "2025-02-26T17:57:27.636826Z",
     "start_time": "2025-02-26T17:57:27.619064Z"
    }
   },
   "source": [
    "#Reading items file:\n",
    "i_cols = ['movie id', 'movie title' ,'release date','video release date', 'IMDb URL', 'unknown', 'Action', 'Adventure',\n",
    " 'Animation', 'Children\\'s', 'Comedy', 'Crime', 'Documentary', 'Drama', 'Fantasy',\n",
    " 'Film-Noir', 'Horror', 'Musical', 'Mystery', 'Romance', 'Sci-Fi', 'Thriller', 'War', 'Western']\n",
    "\n",
    "items = pd.read_csv('ml-100k/u.item', sep='|', names=i_cols, encoding='latin-1')\n",
    "\n",
    "n_items = items.shape[0]\n",
    "print('Number of items:', n_items)\n",
    "print(items)"
   ],
   "outputs": [
    {
     "name": "stdout",
     "output_type": "stream",
     "text": [
      "Number of items: 1682\n",
      "      movie id                                movie title release date  \\\n",
      "0            1                           Toy Story (1995)  01-Jan-1995   \n",
      "1            2                           GoldenEye (1995)  01-Jan-1995   \n",
      "2            3                          Four Rooms (1995)  01-Jan-1995   \n",
      "3            4                          Get Shorty (1995)  01-Jan-1995   \n",
      "4            5                             Copycat (1995)  01-Jan-1995   \n",
      "...        ...                                        ...          ...   \n",
      "1677      1678                          Mat' i syn (1997)  06-Feb-1998   \n",
      "1678      1679                           B. Monkey (1998)  06-Feb-1998   \n",
      "1679      1680                       Sliding Doors (1998)  01-Jan-1998   \n",
      "1680      1681                        You So Crazy (1994)  01-Jan-1994   \n",
      "1681      1682  Scream of Stone (Schrei aus Stein) (1991)  08-Mar-1996   \n",
      "\n",
      "      video release date                                           IMDb URL  \\\n",
      "0                    NaN  http://us.imdb.com/M/title-exact?Toy%20Story%2...   \n",
      "1                    NaN  http://us.imdb.com/M/title-exact?GoldenEye%20(...   \n",
      "2                    NaN  http://us.imdb.com/M/title-exact?Four%20Rooms%...   \n",
      "3                    NaN  http://us.imdb.com/M/title-exact?Get%20Shorty%...   \n",
      "4                    NaN  http://us.imdb.com/M/title-exact?Copycat%20(1995)   \n",
      "...                  ...                                                ...   \n",
      "1677                 NaN  http://us.imdb.com/M/title-exact?Mat%27+i+syn+...   \n",
      "1678                 NaN  http://us.imdb.com/M/title-exact?B%2E+Monkey+(...   \n",
      "1679                 NaN      http://us.imdb.com/Title?Sliding+Doors+(1998)   \n",
      "1680                 NaN  http://us.imdb.com/M/title-exact?You%20So%20Cr...   \n",
      "1681                 NaN  http://us.imdb.com/M/title-exact?Schrei%20aus%...   \n",
      "\n",
      "      unknown  Action  Adventure  Animation  Children's  ...  Fantasy  \\\n",
      "0           0       0          0          1           1  ...        0   \n",
      "1           0       1          1          0           0  ...        0   \n",
      "2           0       0          0          0           0  ...        0   \n",
      "3           0       1          0          0           0  ...        0   \n",
      "4           0       0          0          0           0  ...        0   \n",
      "...       ...     ...        ...        ...         ...  ...      ...   \n",
      "1677        0       0          0          0           0  ...        0   \n",
      "1678        0       0          0          0           0  ...        0   \n",
      "1679        0       0          0          0           0  ...        0   \n",
      "1680        0       0          0          0           0  ...        0   \n",
      "1681        0       0          0          0           0  ...        0   \n",
      "\n",
      "      Film-Noir  Horror  Musical  Mystery  Romance  Sci-Fi  Thriller  War  \\\n",
      "0             0       0        0        0        0       0         0    0   \n",
      "1             0       0        0        0        0       0         1    0   \n",
      "2             0       0        0        0        0       0         1    0   \n",
      "3             0       0        0        0        0       0         0    0   \n",
      "4             0       0        0        0        0       0         1    0   \n",
      "...         ...     ...      ...      ...      ...     ...       ...  ...   \n",
      "1677          0       0        0        0        0       0         0    0   \n",
      "1678          0       0        0        0        1       0         1    0   \n",
      "1679          0       0        0        0        1       0         0    0   \n",
      "1680          0       0        0        0        0       0         0    0   \n",
      "1681          0       0        0        0        0       0         0    0   \n",
      "\n",
      "      Western  \n",
      "0           0  \n",
      "1           0  \n",
      "2           0  \n",
      "3           0  \n",
      "4           0  \n",
      "...       ...  \n",
      "1677        0  \n",
      "1678        0  \n",
      "1679        0  \n",
      "1680        0  \n",
      "1681        0  \n",
      "\n",
      "[1682 rows x 24 columns]\n"
     ]
    }
   ],
   "execution_count": 25
  },
  {
   "cell_type": "markdown",
   "metadata": {},
   "source": [
    "Vì ta đang dựa trên thể loại của phim để xây dựng profile, ta sẽ chỉ quan tâm tới 19 giá trị nhị phân ở cuối mỗi hàng:"
   ]
  },
  {
   "cell_type": "code",
   "metadata": {
    "collapsed": true,
    "ExecuteTime": {
     "end_time": "2025-02-26T17:57:45.724334Z",
     "start_time": "2025-02-26T17:57:45.718880Z"
    }
   },
   "source": [
    "X0 = items.values\n",
    "X_train_counts = X0[:, -19:]\n",
    "print(X_train_counts)"
   ],
   "outputs": [
    {
     "name": "stdout",
     "output_type": "stream",
     "text": [
      "[[0 0 0 ... 0 0 0]\n",
      " [0 1 1 ... 1 0 0]\n",
      " [0 0 0 ... 1 0 0]\n",
      " ...\n",
      " [0 0 0 ... 0 0 0]\n",
      " [0 0 0 ... 0 0 0]\n",
      " [0 0 0 ... 0 0 0]]\n"
     ]
    }
   ],
   "execution_count": 26
  },
  {
   "cell_type": "markdown",
   "metadata": {},
   "source": [
    "Tiếp theo, chúng ta sẽ xây dựng feature vector cho mỗi item dựa trên ma trận thể loại phim và TF-IDF (xem phần phụ lục). "
   ]
  },
  {
   "cell_type": "code",
   "metadata": {
    "ExecuteTime": {
     "end_time": "2025-02-26T17:45:48.464555Z",
     "start_time": "2025-02-26T17:45:47.489650Z"
    }
   },
   "source": [
    "#tfidf\n",
    "from sklearn.feature_extraction.text import TfidfTransformer\n",
    "transformer = TfidfTransformer(smooth_idf=True, norm ='l2')\n",
    "X = transformer.fit_transform(X_train_counts.tolist()).toarray()"
   ],
   "outputs": [],
   "execution_count": 9
  },
  {
   "cell_type": "code",
   "metadata": {
    "ExecuteTime": {
     "end_time": "2025-02-26T17:45:54.067506Z",
     "start_time": "2025-02-26T17:45:54.062633Z"
    }
   },
   "source": [
    "print(rate_train[:4, :])"
   ],
   "outputs": [
    {
     "name": "stdout",
     "output_type": "stream",
     "text": [
      "[[        1         1         5 874965758]\n",
      " [        1         2         3 876893171]\n",
      " [        1         3         4 878542960]\n",
      " [        1         4         3 876893119]]\n"
     ]
    }
   ],
   "execution_count": 10
  },
  {
   "cell_type": "markdown",
   "metadata": {},
   "source": [
    "Sau bước này, mỗi hàng của `tfidf` tương ứng với feature vector của một bộ phim. \n",
    "\n",
    "Tiếp theo, với mỗi _user_, chúng ta cần xây dựng những bộ phim nào mà _user_ đó đã _rated_, và giá trị của các _rating_ đó."
   ]
  },
  {
   "cell_type": "code",
   "metadata": {
    "collapsed": true,
    "ExecuteTime": {
     "end_time": "2025-02-26T17:45:57.868771Z",
     "start_time": "2025-02-26T17:45:57.865476Z"
    }
   },
   "source": [
    "def get_items_rated_by_user(rate_matrix, user_id):\n",
    "    \"\"\"\n",
    "    return (item_ids, scores)\n",
    "    \"\"\"\n",
    "    y = rate_matrix[:,0] # all users\n",
    "    # item indices rated by user_id\n",
    "    # we need to +1 to user_id since in the rate_matrix, id starts from 1 \n",
    "    # but id in python starts from 0\n",
    "    ids = np.where(y == user_id +1)[0] \n",
    "    item_ids = rate_matrix[ids, 1] - 1 # index starts from 0 \n",
    "    scores = rate_matrix[ids, 2]\n",
    "    return (item_ids, scores)"
   ],
   "outputs": [],
   "execution_count": 11
  },
  {
   "cell_type": "markdown",
   "metadata": {},
   "source": [
    "Bây giờ, ta có thể đi tìm các hệ số của Ridge Regression cho mỗi _user_:"
   ]
  },
  {
   "cell_type": "code",
   "metadata": {
    "ExecuteTime": {
     "end_time": "2025-02-26T17:46:01.206040Z",
     "start_time": "2025-02-26T17:45:59.995124Z"
    }
   },
   "source": [
    "from sklearn.linear_model import Ridge\n",
    "from sklearn import linear_model\n",
    "\n",
    "d = X.shape[1] # data dimension\n",
    "W = np.zeros((d, n_users))\n",
    "b = np.zeros(n_users)\n",
    "\n",
    "for n in range(n_users):    \n",
    "    ids, scores = get_items_rated_by_user(rate_train, n)\n",
    "    model = Ridge(alpha=0.01, fit_intercept  = True)\n",
    "    Xhat = X[ids, :]\n",
    "    model.fit(Xhat, scores) \n",
    "    W[:, n] = model.coef_\n",
    "    b[n] = model.intercept_\n"
   ],
   "outputs": [],
   "execution_count": 12
  },
  {
   "cell_type": "markdown",
   "metadata": {},
   "source": [
    "Sau khi tính được các hệ số `W` và `b`, _ratings_ cho mỗi _items_ được dự đoán bằng cách tính:"
   ]
  },
  {
   "cell_type": "code",
   "metadata": {
    "collapsed": true,
    "ExecuteTime": {
     "end_time": "2025-02-26T17:46:03.151336Z",
     "start_time": "2025-02-26T17:46:03.137381Z"
    }
   },
   "source": [
    "# predicted scores\n",
    "Yhat = X.dot(W) + b"
   ],
   "outputs": [],
   "execution_count": 13
  },
  {
   "cell_type": "markdown",
   "metadata": {},
   "source": [
    "Dưới đây là một ví dụ với _user_ có _id_ là `100`. "
   ]
  },
  {
   "cell_type": "code",
   "metadata": {
    "ExecuteTime": {
     "end_time": "2025-02-26T17:46:05.010189Z",
     "start_time": "2025-02-26T17:46:05.005948Z"
    }
   },
   "source": [
    "n = 100\n",
    "np.set_printoptions(precision=2) # 2 digits after . \n",
    "ids, scores = get_items_rated_by_user(rate_test, 10)\n",
    "Yhat[n, ids]\n",
    "print('Rated movies ids :', ids )\n",
    "print('True ratings     :', scores)\n",
    "print('Predicted ratings:', Yhat[ids, n])"
   ],
   "outputs": [
    {
     "name": "stdout",
     "output_type": "stream",
     "text": [
      "Rated movies ids : [ 37 109 110 226 424 557 722 724 731 739]\n",
      "True ratings     : [3 3 4 3 4 3 5 3 3 4]\n",
      "Predicted ratings: [2.65 3.9  3.21 3.28 2.11 2.05 2.41 2.11 3.21 3.34]\n"
     ]
    }
   ],
   "execution_count": 14
  },
  {
   "cell_type": "markdown",
   "metadata": {},
   "source": [
    "Để đánh giá mô hình tìm được, chúng ta sẽ sử dụng Root Mean Squared Error (RMSE), tức căn bậc hai của trung bình cộng bình phương của lỗi. Lỗi được tính là hiệu của _true rating_ và _predicted rating_:"
   ]
  },
  {
   "cell_type": "code",
   "metadata": {
    "ExecuteTime": {
     "end_time": "2025-02-26T17:48:12.027840Z",
     "start_time": "2025-02-26T17:48:11.956439Z"
    }
   },
   "source": [
    "def evaluate(Yhat, rates, W, b):\n",
    "    se = 0\n",
    "    cnt = 0\n",
    "    for n in range(n_users):\n",
    "        ids, scores_truth = get_items_rated_by_user(rates, n)\n",
    "        scores_pred = Yhat[ids, n]\n",
    "        e = scores_truth - scores_pred \n",
    "        se += (e*e).sum(axis = 0)\n",
    "        cnt += e.size \n",
    "    return np.sqrt(se/cnt)\n",
    "\n",
    "print(f'RMSE for training: {evaluate(Yhat, rate_train, W, b):.2f}')\n",
    "print(f'RMSE for test    : {evaluate(Yhat, rate_test, W, b):.2f}')"
   ],
   "outputs": [
    {
     "name": "stdout",
     "output_type": "stream",
     "text": [
      "RMSE for training: 0.91\n",
      "RMSE for test    : 1.27\n"
     ]
    }
   ],
   "execution_count": 19
  },
  {
   "cell_type": "markdown",
   "metadata": {},
   "source": [
    "Như vậy, với tập training, sai số vào khoảng 0.9 _sao_; với tập test, sai số lớn hơn một chút, rơi vào khoảng 1.3. Chúng ta thấy rằng kết quả này chưa thực sự tốt vì chúng ta đã đơn giản hoá mô hình đi quá nhiều. Kết quả tốt hơn có thể được thấy trong bài tiếp theo: Collaborative Filtering. "
   ]
  }
 ],
 "metadata": {
  "kernelspec": {
   "display_name": "Python 3 (ipykernel)",
   "language": "python",
   "name": "python3"
  },
  "language_info": {
   "codemirror_mode": {
    "name": "ipython",
    "version": 2
   },
   "file_extension": ".py",
   "mimetype": "text/x-python",
   "name": "python",
   "nbconvert_exporter": "python",
   "pygments_lexer": "ipython2",
   "version": "2.7.13"
  }
 },
 "nbformat": 4,
 "nbformat_minor": 2
}
